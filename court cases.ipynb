{
 "cells": [
  {
   "cell_type": "code",
   "execution_count": 9,
   "id": "64002c87",
   "metadata": {},
   "outputs": [],
   "source": [
    "from pydantic import BaseModel\n",
    "from typing import List\n",
    "\n",
    "class participant(BaseModel):  #имя человека или название фирмы\n",
    "    type: str = ''\n",
    "    name: str = ''\n",
    "\n",
    "class case(BaseModel):   #судебное дело\n",
    "    Number: str = '' \n",
    "    Url: str = ''\n",
    "    State: str = ''\n",
    "    StateDate: str = ''\n",
    "    Judge: str = ''\n",
    "    Codex: str = ''\n",
    "    Category: str = ''\n",
    "    participants: List[participant]"
   ]
  },
  {
   "cell_type": "code",
   "execution_count": 29,
   "id": "f02be8b8",
   "metadata": {},
   "outputs": [],
   "source": [
    "import requests\n",
    "import re\n",
    "def court_case(name):   \n",
    "    '''\n",
    "    То же, что и court_cases(), только ищет по одному имени(либо краткому, либо полному)\n",
    "    Принимает, возвращает аналогично.\n",
    "    '''\n",
    "    url = f\"https://service.api-assist.com/parser/mosgorsud_api/?key=dd48a3880956f92e995edeb40e131d13&participant={name}\"\n",
    "    response = requests.request(\"GET\", url)\n",
    "    all_court_cases = response.json()\n",
    "    names_plaintiff = ['Мир Финансов', 'МИР Финансов', 'мир финансов', 'Мир финансов']\n",
    "    name_type = ['УК', 'Управляющая Компания', 'Управляющая компания', 'ук']\n",
    "    lst = []\n",
    "    if int(all_court_cases['total_count']) > 0:\n",
    "        lst = [case(**x) for x in all_court_cases['cases'] if any(s1 in x['participants'][0]['name'] and s2 in x['participants'][0]['name'] for s1 in names_plaintiff for s2 in names_plaintiff)]\n",
    "    return lst\n",
    "    \n",
    "def court_cases(name):    \n",
    "    '''\n",
    "    Принимает строку: либо полное имя ответчика(Курдина Татьяна Александровна), либо краткоaе (Курдина Т.А.)\n",
    "    Возвращает список дел по данному ответчику, где истец это \"УК Мир финансов\" и его производные.\n",
    "    '''\n",
    "    list_cases = []\n",
    "    [list_cases.append(x) for x in court_case(name)]\n",
    "    if '.' not in name:\n",
    "        name = f\"{name.split()[0]} {re.findall('[А-Я]',name)[1]}.{re.findall('[А-Я]',name)[2]}.\"\n",
    "        [list_cases.append(x) for x in court_case(name)]\n",
    "    return list_cases"
   ]
  },
  {
   "cell_type": "code",
   "execution_count": 20,
   "id": "fea98b04",
   "metadata": {},
   "outputs": [
    {
     "name": "stdout",
     "output_type": "stream",
     "text": [
      "Шинев О.Г.\n"
     ]
    },
    {
     "data": {
      "text/plain": [
       "[case(Number='М-8398/2022', Url='/rs/preobrazhenskij/services/cases/claim-civil/details/825cafc0-590e-11ed-ba97-9bb341f77791', State='Зарегистрировано ', StateDate='31.10.2022', Judge='Сакович Т.Н.', Codex='', Category='205 - Иски о взыскании сумм по договору займа, кредитному договору', participants=[participant(type='Истец', name='ООО \"УК \"МИР Финансов\"'), participant(type='Ответчик', name='Шинев О.Г.')])]"
      ]
     },
     "execution_count": 20,
     "metadata": {},
     "output_type": "execute_result"
    }
   ],
   "source": [
    "print(\"Шинев О.Г.\")\n",
    "court_cases(\"Шинев О.Г.\")"
   ]
  },
  {
   "cell_type": "code",
   "execution_count": 22,
   "id": "889e84a9",
   "metadata": {},
   "outputs": [
    {
     "name": "stdout",
     "output_type": "stream",
     "text": [
      "Севастьянова О.Л.\n"
     ]
    },
    {
     "data": {
      "text/plain": [
       "[]"
      ]
     },
     "execution_count": 22,
     "metadata": {},
     "output_type": "execute_result"
    }
   ],
   "source": [
    "print(\"Севастьянова О.Л.\")\n",
    "court_cases(\"Севастьянова О.Л.\")"
   ]
  },
  {
   "cell_type": "code",
   "execution_count": 23,
   "id": "f2f3ea94",
   "metadata": {},
   "outputs": [
    {
     "name": "stdout",
     "output_type": "stream",
     "text": [
      "Федотова О.В.\n"
     ]
    },
    {
     "data": {
      "text/plain": [
       "[]"
      ]
     },
     "execution_count": 23,
     "metadata": {},
     "output_type": "execute_result"
    }
   ],
   "source": [
    "print(\"Федотова О.В.\")\n",
    "court_cases(\"Федотова О.В.\")"
   ]
  },
  {
   "cell_type": "code",
   "execution_count": 24,
   "id": "87871cc5",
   "metadata": {},
   "outputs": [
    {
     "name": "stdout",
     "output_type": "stream",
     "text": [
      "Курдина Татьяна Александровна\n"
     ]
    },
    {
     "data": {
      "text/plain": [
       "[case(Number='02-8718/2022', Url='/rs/preobrazhenskij/services/cases/civil/details/5cbc8ca1-60d3-11ed-85cc-0ddf8eadabf1', State='Назначена беседа на 12.12.2022 17:10', StateDate='', Judge='Горькова И.Ю.', Codex='', Category='205 - Иски о взыскании сумм по договору займа, кредитному договору', participants=[participant(type='Истец', name='ООО \"УК \"МИР Финансов\"'), participant(type='Ответчик', name='Курдин Николай Алексеевич, Курдина Татьяна Александровна')])]"
      ]
     },
     "execution_count": 24,
     "metadata": {},
     "output_type": "execute_result"
    }
   ],
   "source": [
    "print(\"Курдина Татьяна Александровна\")\n",
    "court_cases(\"Курдина Татьяна Александровна\")"
   ]
  },
  {
   "cell_type": "code",
   "execution_count": 21,
   "id": "5bdcee1e",
   "metadata": {},
   "outputs": [
    {
     "name": "stdout",
     "output_type": "stream",
     "text": [
      "Ходжаян А.Н.\n"
     ]
    },
    {
     "data": {
      "text/plain": [
       "[case(Number='М-7731/2022', Url='/rs/basmannyj/services/cases/claim-civil/details/fba9b640-5b78-11ed-916b-d7f992b99ee2', State='Зарегистрировано ', StateDate='03.11.2022', Judge='Графова Г.А.', Codex='', Category='205 - Иски о взыскании сумм по договору займа, кредитному договору', participants=[participant(type='Истец', name='ООО \"Управляющая компания \"Мир Финансов\", Д.У. ЗПИФ комбинированным \"Гималаи\"'), participant(type='Ответчик', name='Ходжаян А.Н.')]),\n",
       " case(Number='М-7700/2022', Url='/rs/basmannyj/services/cases/claim-civil/details/4c130f40-5aa3-11ed-9028-d90b32016100', State='Возвращено ', StateDate='03.11.2022', Judge='Графова Г.А.', Codex='', Category='205 - Иски о взыскании сумм по договору займа, кредитному договору', participants=[participant(type='Истец', name='ООО \"Управляющая компания \"Мир Финансов\", Д.У. ЗПИФ комбинированным \"Гималаи\"'), participant(type='Ответчик', name='Ходжаян А.Н.')])]"
      ]
     },
     "execution_count": 21,
     "metadata": {},
     "output_type": "execute_result"
    }
   ],
   "source": [
    "print(\"Ходжаян А.Н.\")\n",
    "court_cases(\"Ходжаян А.Н.\")"
   ]
  },
  {
   "cell_type": "code",
   "execution_count": 25,
   "id": "4cdf999b",
   "metadata": {},
   "outputs": [
    {
     "name": "stdout",
     "output_type": "stream",
     "text": [
      "Бердиева Янина Вячеславовна\n"
     ]
    },
    {
     "data": {
      "text/plain": [
       "[case(Number='М-8626/2022', Url='/rs/preobrazhenskij/services/cases/claim-civil/details/f04d7180-60f3-11ed-a982-df53ba2e8de7', State='Зарегистрировано ', StateDate='10.11.2022', Judge='Казанцев О.А.', Codex='', Category='205 - Иски о взыскании сумм по договору займа, кредитному договору', participants=[participant(type='Истец', name='ООО \"Управляющая компания \"Мир Финансов\"'), participant(type='Ответчик', name='Бердиева Янина Вячеславовна, Чуева Елена Валентиновна')]),\n",
       " case(Number='М-8298/2022', Url='/rs/preobrazhenskij/services/cases/claim-civil/details/27d84d40-569b-11ed-b594-b97818e0b4e3', State='Возвращено ', StateDate='31.10.2022', Judge='Сакович Т.Н.', Codex='', Category='205 - Иски о взыскании сумм по договору займа, кредитному договору', participants=[participant(type='Истец', name='ООО \"УК \"Мир финансов\"'), participant(type='Ответчик', name='Бердиева Я.В., Чуева Е.В.')])]"
      ]
     },
     "execution_count": 25,
     "metadata": {},
     "output_type": "execute_result"
    }
   ],
   "source": [
    "print(\"Бердиева Янина Вячеславовна\")\n",
    "court_cases(\"Бердиева Янина Вячеславовна\")"
   ]
  },
  {
   "cell_type": "code",
   "execution_count": 26,
   "id": "b879593f",
   "metadata": {},
   "outputs": [
    {
     "name": "stdout",
     "output_type": "stream",
     "text": [
      "Матвеев Р.Ю.\n"
     ]
    },
    {
     "data": {
      "text/plain": [
       "[case(Number='М-8392/2022', Url='/rs/preobrazhenskij/services/cases/claim-civil/details/cf528f00-590b-11ed-ba97-9bb341f77791', State='Зарегистрировано ', StateDate='31.10.2022', Judge='Казанцев О.А.', Codex='', Category='205 - Иски о взыскании сумм по договору займа, кредитному договору', participants=[participant(type='Истец', name='ООО \"УК \"МИР Финансов\"'), participant(type='Ответчик', name='Матвеев А.Р., Матвеев Р.Ю., Матвеева Л.Ю.')])]"
      ]
     },
     "execution_count": 26,
     "metadata": {},
     "output_type": "execute_result"
    }
   ],
   "source": [
    "print(\"Матвеев Р.Ю.\")\n",
    "court_cases(\"Матвеев Р.Ю.\")"
   ]
  },
  {
   "cell_type": "code",
   "execution_count": 27,
   "id": "2ddfdb24",
   "metadata": {},
   "outputs": [
    {
     "name": "stdout",
     "output_type": "stream",
     "text": [
      "Ермолова И.А.\n"
     ]
    },
    {
     "data": {
      "text/plain": [
       "[]"
      ]
     },
     "execution_count": 27,
     "metadata": {},
     "output_type": "execute_result"
    }
   ],
   "source": [
    "print(\"Ермолова И.А.\")\n",
    "court_cases(\"Ермолова И.А.\")"
   ]
  },
  {
   "cell_type": "code",
   "execution_count": 28,
   "id": "abe05025",
   "metadata": {},
   "outputs": [
    {
     "name": "stdout",
     "output_type": "stream",
     "text": [
      "Михайлов Л.А.\n"
     ]
    },
    {
     "ename": "JSONDecodeError",
     "evalue": "Expecting value: line 1 column 1 (char 0)",
     "output_type": "error",
     "traceback": [
      "\u001b[1;31m---------------------------------------------------------------------------\u001b[0m",
      "\u001b[1;31mJSONDecodeError\u001b[0m                           Traceback (most recent call last)",
      "\u001b[1;32m<ipython-input-28-bb27c832cbe6>\u001b[0m in \u001b[0;36m<module>\u001b[1;34m\u001b[0m\n\u001b[0;32m      1\u001b[0m \u001b[0mprint\u001b[0m\u001b[1;33m(\u001b[0m\u001b[1;34m\"Михайлов Л.А.\"\u001b[0m\u001b[1;33m)\u001b[0m\u001b[1;33m\u001b[0m\u001b[1;33m\u001b[0m\u001b[0m\n\u001b[1;32m----> 2\u001b[1;33m \u001b[0mcourt_cases\u001b[0m\u001b[1;33m(\u001b[0m\u001b[1;34m\"Михайлов Л.А.\"\u001b[0m\u001b[1;33m)\u001b[0m\u001b[1;33m\u001b[0m\u001b[1;33m\u001b[0m\u001b[0m\n\u001b[0m",
      "\u001b[1;32m<ipython-input-19-ea5eee042648>\u001b[0m in \u001b[0;36mcourt_cases\u001b[1;34m(name)\u001b[0m\n\u001b[0;32m     14\u001b[0m \u001b[1;32mdef\u001b[0m \u001b[0mcourt_cases\u001b[0m\u001b[1;33m(\u001b[0m\u001b[0mname\u001b[0m\u001b[1;33m)\u001b[0m\u001b[1;33m:\u001b[0m\u001b[1;33m\u001b[0m\u001b[1;33m\u001b[0m\u001b[0m\n\u001b[0;32m     15\u001b[0m     \u001b[0mlist_cases\u001b[0m \u001b[1;33m=\u001b[0m \u001b[1;33m[\u001b[0m\u001b[1;33m]\u001b[0m\u001b[1;33m\u001b[0m\u001b[1;33m\u001b[0m\u001b[0m\n\u001b[1;32m---> 16\u001b[1;33m     \u001b[1;33m[\u001b[0m\u001b[0mlist_cases\u001b[0m\u001b[1;33m.\u001b[0m\u001b[0mappend\u001b[0m\u001b[1;33m(\u001b[0m\u001b[0mx\u001b[0m\u001b[1;33m)\u001b[0m \u001b[1;32mfor\u001b[0m \u001b[0mx\u001b[0m \u001b[1;32min\u001b[0m \u001b[0mcourt_case\u001b[0m\u001b[1;33m(\u001b[0m\u001b[0mname\u001b[0m\u001b[1;33m)\u001b[0m\u001b[1;33m]\u001b[0m\u001b[1;33m\u001b[0m\u001b[1;33m\u001b[0m\u001b[0m\n\u001b[0m\u001b[0;32m     17\u001b[0m     \u001b[1;32mif\u001b[0m \u001b[1;34m'.'\u001b[0m \u001b[1;32mnot\u001b[0m \u001b[1;32min\u001b[0m \u001b[0mname\u001b[0m\u001b[1;33m:\u001b[0m\u001b[1;33m\u001b[0m\u001b[1;33m\u001b[0m\u001b[0m\n\u001b[0;32m     18\u001b[0m         \u001b[0mname\u001b[0m \u001b[1;33m=\u001b[0m \u001b[1;34mf\"{name.split()[0]} {re.findall('[А-Я]',name)[1]}.{re.findall('[А-Я]',name)[2]}.\"\u001b[0m\u001b[1;33m\u001b[0m\u001b[1;33m\u001b[0m\u001b[0m\n",
      "\u001b[1;32m<ipython-input-19-ea5eee042648>\u001b[0m in \u001b[0;36mcourt_case\u001b[1;34m(name)\u001b[0m\n\u001b[0;32m      4\u001b[0m     \u001b[0murl\u001b[0m \u001b[1;33m=\u001b[0m \u001b[1;34mf\"https://service.api-assist.com/parser/mosgorsud_api/?key=dd48a3880956f92e995edeb40e131d13&participant={name}\"\u001b[0m\u001b[1;33m\u001b[0m\u001b[1;33m\u001b[0m\u001b[0m\n\u001b[0;32m      5\u001b[0m     \u001b[0mresponse\u001b[0m \u001b[1;33m=\u001b[0m \u001b[0mrequests\u001b[0m\u001b[1;33m.\u001b[0m\u001b[0mrequest\u001b[0m\u001b[1;33m(\u001b[0m\u001b[1;34m\"GET\"\u001b[0m\u001b[1;33m,\u001b[0m \u001b[0murl\u001b[0m\u001b[1;33m)\u001b[0m\u001b[1;33m\u001b[0m\u001b[1;33m\u001b[0m\u001b[0m\n\u001b[1;32m----> 6\u001b[1;33m     \u001b[0mall_court_cases\u001b[0m \u001b[1;33m=\u001b[0m \u001b[0mresponse\u001b[0m\u001b[1;33m.\u001b[0m\u001b[0mjson\u001b[0m\u001b[1;33m(\u001b[0m\u001b[1;33m)\u001b[0m\u001b[1;33m\u001b[0m\u001b[1;33m\u001b[0m\u001b[0m\n\u001b[0m\u001b[0;32m      7\u001b[0m     \u001b[0mnames_plaintiff\u001b[0m \u001b[1;33m=\u001b[0m \u001b[1;33m[\u001b[0m\u001b[1;34m'Мир Финансов'\u001b[0m\u001b[1;33m,\u001b[0m \u001b[1;34m'МИР Финансов'\u001b[0m\u001b[1;33m,\u001b[0m \u001b[1;34m'мир финансов'\u001b[0m\u001b[1;33m,\u001b[0m \u001b[1;34m'Мир финансов'\u001b[0m\u001b[1;33m]\u001b[0m\u001b[1;33m\u001b[0m\u001b[1;33m\u001b[0m\u001b[0m\n\u001b[0;32m      8\u001b[0m     \u001b[0mname_type\u001b[0m \u001b[1;33m=\u001b[0m \u001b[1;33m[\u001b[0m\u001b[1;34m'УК'\u001b[0m\u001b[1;33m,\u001b[0m \u001b[1;34m'Управляющая Компания'\u001b[0m\u001b[1;33m,\u001b[0m \u001b[1;34m'Управляющая компания'\u001b[0m\u001b[1;33m,\u001b[0m \u001b[1;34m'ук'\u001b[0m\u001b[1;33m]\u001b[0m\u001b[1;33m\u001b[0m\u001b[1;33m\u001b[0m\u001b[0m\n",
      "\u001b[1;32m~\\anaconda3\\lib\\site-packages\\requests\\models.py\u001b[0m in \u001b[0;36mjson\u001b[1;34m(self, **kwargs)\u001b[0m\n\u001b[0;32m    898\u001b[0m                     \u001b[1;31m# used.\u001b[0m\u001b[1;33m\u001b[0m\u001b[1;33m\u001b[0m\u001b[1;33m\u001b[0m\u001b[0m\n\u001b[0;32m    899\u001b[0m                     \u001b[1;32mpass\u001b[0m\u001b[1;33m\u001b[0m\u001b[1;33m\u001b[0m\u001b[0m\n\u001b[1;32m--> 900\u001b[1;33m         \u001b[1;32mreturn\u001b[0m \u001b[0mcomplexjson\u001b[0m\u001b[1;33m.\u001b[0m\u001b[0mloads\u001b[0m\u001b[1;33m(\u001b[0m\u001b[0mself\u001b[0m\u001b[1;33m.\u001b[0m\u001b[0mtext\u001b[0m\u001b[1;33m,\u001b[0m \u001b[1;33m**\u001b[0m\u001b[0mkwargs\u001b[0m\u001b[1;33m)\u001b[0m\u001b[1;33m\u001b[0m\u001b[1;33m\u001b[0m\u001b[0m\n\u001b[0m\u001b[0;32m    901\u001b[0m \u001b[1;33m\u001b[0m\u001b[0m\n\u001b[0;32m    902\u001b[0m     \u001b[1;33m@\u001b[0m\u001b[0mproperty\u001b[0m\u001b[1;33m\u001b[0m\u001b[1;33m\u001b[0m\u001b[0m\n",
      "\u001b[1;32m~\\anaconda3\\lib\\json\\__init__.py\u001b[0m in \u001b[0;36mloads\u001b[1;34m(s, cls, object_hook, parse_float, parse_int, parse_constant, object_pairs_hook, **kw)\u001b[0m\n\u001b[0;32m    355\u001b[0m             \u001b[0mparse_int\u001b[0m \u001b[1;32mis\u001b[0m \u001b[1;32mNone\u001b[0m \u001b[1;32mand\u001b[0m \u001b[0mparse_float\u001b[0m \u001b[1;32mis\u001b[0m \u001b[1;32mNone\u001b[0m \u001b[1;32mand\u001b[0m\u001b[1;33m\u001b[0m\u001b[1;33m\u001b[0m\u001b[0m\n\u001b[0;32m    356\u001b[0m             parse_constant is None and object_pairs_hook is None and not kw):\n\u001b[1;32m--> 357\u001b[1;33m         \u001b[1;32mreturn\u001b[0m \u001b[0m_default_decoder\u001b[0m\u001b[1;33m.\u001b[0m\u001b[0mdecode\u001b[0m\u001b[1;33m(\u001b[0m\u001b[0ms\u001b[0m\u001b[1;33m)\u001b[0m\u001b[1;33m\u001b[0m\u001b[1;33m\u001b[0m\u001b[0m\n\u001b[0m\u001b[0;32m    358\u001b[0m     \u001b[1;32mif\u001b[0m \u001b[0mcls\u001b[0m \u001b[1;32mis\u001b[0m \u001b[1;32mNone\u001b[0m\u001b[1;33m:\u001b[0m\u001b[1;33m\u001b[0m\u001b[1;33m\u001b[0m\u001b[0m\n\u001b[0;32m    359\u001b[0m         \u001b[0mcls\u001b[0m \u001b[1;33m=\u001b[0m \u001b[0mJSONDecoder\u001b[0m\u001b[1;33m\u001b[0m\u001b[1;33m\u001b[0m\u001b[0m\n",
      "\u001b[1;32m~\\anaconda3\\lib\\json\\decoder.py\u001b[0m in \u001b[0;36mdecode\u001b[1;34m(self, s, _w)\u001b[0m\n\u001b[0;32m    335\u001b[0m \u001b[1;33m\u001b[0m\u001b[0m\n\u001b[0;32m    336\u001b[0m         \"\"\"\n\u001b[1;32m--> 337\u001b[1;33m         \u001b[0mobj\u001b[0m\u001b[1;33m,\u001b[0m \u001b[0mend\u001b[0m \u001b[1;33m=\u001b[0m \u001b[0mself\u001b[0m\u001b[1;33m.\u001b[0m\u001b[0mraw_decode\u001b[0m\u001b[1;33m(\u001b[0m\u001b[0ms\u001b[0m\u001b[1;33m,\u001b[0m \u001b[0midx\u001b[0m\u001b[1;33m=\u001b[0m\u001b[0m_w\u001b[0m\u001b[1;33m(\u001b[0m\u001b[0ms\u001b[0m\u001b[1;33m,\u001b[0m \u001b[1;36m0\u001b[0m\u001b[1;33m)\u001b[0m\u001b[1;33m.\u001b[0m\u001b[0mend\u001b[0m\u001b[1;33m(\u001b[0m\u001b[1;33m)\u001b[0m\u001b[1;33m)\u001b[0m\u001b[1;33m\u001b[0m\u001b[1;33m\u001b[0m\u001b[0m\n\u001b[0m\u001b[0;32m    338\u001b[0m         \u001b[0mend\u001b[0m \u001b[1;33m=\u001b[0m \u001b[0m_w\u001b[0m\u001b[1;33m(\u001b[0m\u001b[0ms\u001b[0m\u001b[1;33m,\u001b[0m \u001b[0mend\u001b[0m\u001b[1;33m)\u001b[0m\u001b[1;33m.\u001b[0m\u001b[0mend\u001b[0m\u001b[1;33m(\u001b[0m\u001b[1;33m)\u001b[0m\u001b[1;33m\u001b[0m\u001b[1;33m\u001b[0m\u001b[0m\n\u001b[0;32m    339\u001b[0m         \u001b[1;32mif\u001b[0m \u001b[0mend\u001b[0m \u001b[1;33m!=\u001b[0m \u001b[0mlen\u001b[0m\u001b[1;33m(\u001b[0m\u001b[0ms\u001b[0m\u001b[1;33m)\u001b[0m\u001b[1;33m:\u001b[0m\u001b[1;33m\u001b[0m\u001b[1;33m\u001b[0m\u001b[0m\n",
      "\u001b[1;32m~\\anaconda3\\lib\\json\\decoder.py\u001b[0m in \u001b[0;36mraw_decode\u001b[1;34m(self, s, idx)\u001b[0m\n\u001b[0;32m    353\u001b[0m             \u001b[0mobj\u001b[0m\u001b[1;33m,\u001b[0m \u001b[0mend\u001b[0m \u001b[1;33m=\u001b[0m \u001b[0mself\u001b[0m\u001b[1;33m.\u001b[0m\u001b[0mscan_once\u001b[0m\u001b[1;33m(\u001b[0m\u001b[0ms\u001b[0m\u001b[1;33m,\u001b[0m \u001b[0midx\u001b[0m\u001b[1;33m)\u001b[0m\u001b[1;33m\u001b[0m\u001b[1;33m\u001b[0m\u001b[0m\n\u001b[0;32m    354\u001b[0m         \u001b[1;32mexcept\u001b[0m \u001b[0mStopIteration\u001b[0m \u001b[1;32mas\u001b[0m \u001b[0merr\u001b[0m\u001b[1;33m:\u001b[0m\u001b[1;33m\u001b[0m\u001b[1;33m\u001b[0m\u001b[0m\n\u001b[1;32m--> 355\u001b[1;33m             \u001b[1;32mraise\u001b[0m \u001b[0mJSONDecodeError\u001b[0m\u001b[1;33m(\u001b[0m\u001b[1;34m\"Expecting value\"\u001b[0m\u001b[1;33m,\u001b[0m \u001b[0ms\u001b[0m\u001b[1;33m,\u001b[0m \u001b[0merr\u001b[0m\u001b[1;33m.\u001b[0m\u001b[0mvalue\u001b[0m\u001b[1;33m)\u001b[0m \u001b[1;32mfrom\u001b[0m \u001b[1;32mNone\u001b[0m\u001b[1;33m\u001b[0m\u001b[1;33m\u001b[0m\u001b[0m\n\u001b[0m\u001b[0;32m    356\u001b[0m         \u001b[1;32mreturn\u001b[0m \u001b[0mobj\u001b[0m\u001b[1;33m,\u001b[0m \u001b[0mend\u001b[0m\u001b[1;33m\u001b[0m\u001b[1;33m\u001b[0m\u001b[0m\n",
      "\u001b[1;31mJSONDecodeError\u001b[0m: Expecting value: line 1 column 1 (char 0)"
     ]
    }
   ],
   "source": [
    "print(\"Михайлов Л.А.\")\n",
    "court_cases(\"Михайлов Л.А.\")"
   ]
  }
 ],
 "metadata": {
  "kernelspec": {
   "display_name": "Python 3",
   "language": "python",
   "name": "python3"
  },
  "language_info": {
   "codemirror_mode": {
    "name": "ipython",
    "version": 3
   },
   "file_extension": ".py",
   "mimetype": "text/x-python",
   "name": "python",
   "nbconvert_exporter": "python",
   "pygments_lexer": "ipython3",
   "version": "3.8.8"
  }
 },
 "nbformat": 4,
 "nbformat_minor": 5
}
