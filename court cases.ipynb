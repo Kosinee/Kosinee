{
 "cells": [
  {
   "cell_type": "code",
   "execution_count": 9,
   "id": "64002c87",
   "metadata": {},
   "outputs": [],
   "source": [
    "from pydantic import BaseModel\n",
    "from typing import List\n",
    "\n",
    "class participant(BaseModel):\n",
    "    type: str = ''\n",
    "    name: str = ''\n",
    "\n",
    "class case(BaseModel):\n",
    "    Number: str = '' \n",
    "    Url: str = ''\n",
    "    State: str = ''\n",
    "    StateDate: str = ''\n",
    "    Judge: str = ''\n",
    "    Codex: str = ''\n",
    "    Category: str = ''\n",
    "    participants: List[participant]"
   ]
  },
  {
   "cell_type": "code",
   "execution_count": 19,
   "id": "f02be8b8",
   "metadata": {},
   "outputs": [],
   "source": [
    "import requests\n",
    "import re\n",
    "def court_case(name):\n",
    "    url = f\"https://service.api-assist.com/parser/mosgorsud_api/?key=dd48a3880956f92e995edeb40e131d13&participant={name}\"\n",
    "    response = requests.request(\"GET\", url)\n",
    "    all_court_cases = response.json()\n",
    "    names_plaintiff = ['Мир Финансов', 'МИР Финансов', 'мир финансов', 'Мир финансов']\n",
    "    name_type = ['УК', 'Управляющая Компания', 'Управляющая компания', 'ук']\n",
    "    lst = []\n",
    "    if int(all_court_cases['total_count']) > 0:\n",
    "        lst = [case(**x) for x in all_court_cases['cases'] if any(s1 in x['participants'][0]['name'] and s2 in x['participants'][0]['name'] for s1 in names_plaintiff for s2 in names_plaintiff)]\n",
    "    return lst\n",
    "    \n",
    "def court_cases(name):\n",
    "    list_cases = []\n",
    "    [list_cases.append(x) for x in court_case(name)]\n",
    "    if '.' not in name:\n",
    "        name = f\"{name.split()[0]} {re.findall('[А-Я]',name)[1]}.{re.findall('[А-Я]',name)[2]}.\"\n",
    "        [list_cases.append(x) for x in court_case(name)]\n",
    "    return list_cases"
   ]
  },
  {
   "cell_type": "code",
   "execution_count": 20,
   "id": "fea98b04",
   "metadata": {},
   "outputs": [
    {
     "name": "stdout",
     "output_type": "stream",
     "text": [
      "Шинев О.Г.\n"
     ]
    },
    {
     "data": {
      "text/plain": [
       "[case(Number='М-8398/2022', Url='/rs/preobrazhenskij/services/cases/claim-civil/details/825cafc0-590e-11ed-ba97-9bb341f77791', State='Зарегистрировано ', StateDate='31.10.2022', Judge='Сакович Т.Н.', Codex='', Category='205 - Иски о взыскании сумм по договору займа, кредитному договору', participants=[participant(type='Истец', name='ООО \"УК \"МИР Финансов\"'), participant(type='Ответчик', name='Шинев О.Г.')])]"
      ]
     },
     "execution_count": 20,
     "metadata": {},
     "output_type": "execute_result"
    }
   ],
   "source": [
    "print(\"Шинев О.Г.\")\n",
    "court_cases(\"Шинев О.Г.\")"
   ]
  },
  {
   "cell_type": "code",
   "execution_count": 271,
   "id": "889e84a9",
   "metadata": {},
   "outputs": [
    {
     "name": "stdout",
     "output_type": "stream",
     "text": [
      "Севастьянова О.Л.\n"
     ]
    },
    {
     "data": {
      "text/plain": [
       "[]"
      ]
     },
     "execution_count": 271,
     "metadata": {},
     "output_type": "execute_result"
    }
   ],
   "source": [
    "print(\"Севастьянова О.Л.\")\n",
    "court_cases(\"Севастьянова О.Л.\")"
   ]
  },
  {
   "cell_type": "code",
   "execution_count": 273,
   "id": "f2f3ea94",
   "metadata": {},
   "outputs": [
    {
     "name": "stdout",
     "output_type": "stream",
     "text": [
      "Федотова О.В.\n"
     ]
    },
    {
     "data": {
      "text/plain": [
       "[]"
      ]
     },
     "execution_count": 273,
     "metadata": {},
     "output_type": "execute_result"
    }
   ],
   "source": [
    "print(\"Федотова О.В.\")\n",
    "court_cases(\"Федотова О.В.\")"
   ]
  },
  {
   "cell_type": "code",
   "execution_count": 7,
   "id": "87871cc5",
   "metadata": {},
   "outputs": [
    {
     "name": "stdout",
     "output_type": "stream",
     "text": [
      "Курдина Татьяна Александровна\n"
     ]
    },
    {
     "data": {
      "text/plain": [
       "[{'Number': '02-8718/2022',\n",
       "  'Url': '/rs/preobrazhenskij/services/cases/civil/details/5cbc8ca1-60d3-11ed-85cc-0ddf8eadabf1',\n",
       "  'State': 'Назначена беседа на 12.12.2022 17:10',\n",
       "  'Judge': 'Горькова И.Ю.',\n",
       "  'Codex': '',\n",
       "  'Category': '205 - Иски о взыскании сумм по договору займа, кредитному договору',\n",
       "  'participants': [{'type': 'Истец', 'name': 'ООО \"УК \"МИР Финансов\"'},\n",
       "   {'type': 'Ответчик',\n",
       "    'name': 'Курдин Николай Алексеевич, Курдина Татьяна Александровна'}]}]"
      ]
     },
     "execution_count": 7,
     "metadata": {},
     "output_type": "execute_result"
    }
   ],
   "source": [
    "print(\"Курдина Татьяна Александровна\")\n",
    "court_cases(\"Курдина Татьяна Александровна\")"
   ]
  },
  {
   "cell_type": "code",
   "execution_count": 21,
   "id": "5bdcee1e",
   "metadata": {},
   "outputs": [
    {
     "name": "stdout",
     "output_type": "stream",
     "text": [
      "Ходжаян А.Н.\n"
     ]
    },
    {
     "data": {
      "text/plain": [
       "[case(Number='М-7731/2022', Url='/rs/basmannyj/services/cases/claim-civil/details/fba9b640-5b78-11ed-916b-d7f992b99ee2', State='Зарегистрировано ', StateDate='03.11.2022', Judge='Графова Г.А.', Codex='', Category='205 - Иски о взыскании сумм по договору займа, кредитному договору', participants=[participant(type='Истец', name='ООО \"Управляющая компания \"Мир Финансов\", Д.У. ЗПИФ комбинированным \"Гималаи\"'), participant(type='Ответчик', name='Ходжаян А.Н.')]),\n",
       " case(Number='М-7700/2022', Url='/rs/basmannyj/services/cases/claim-civil/details/4c130f40-5aa3-11ed-9028-d90b32016100', State='Возвращено ', StateDate='03.11.2022', Judge='Графова Г.А.', Codex='', Category='205 - Иски о взыскании сумм по договору займа, кредитному договору', participants=[participant(type='Истец', name='ООО \"Управляющая компания \"Мир Финансов\", Д.У. ЗПИФ комбинированным \"Гималаи\"'), participant(type='Ответчик', name='Ходжаян А.Н.')])]"
      ]
     },
     "execution_count": 21,
     "metadata": {},
     "output_type": "execute_result"
    }
   ],
   "source": [
    "print(\"Ходжаян А.Н.\")\n",
    "court_cases(\"Ходжаян А.Н.\")"
   ]
  },
  {
   "cell_type": "code",
   "execution_count": 279,
   "id": "4cdf999b",
   "metadata": {},
   "outputs": [
    {
     "name": "stdout",
     "output_type": "stream",
     "text": [
      "Бердиева Янина Вячеславовна\n"
     ]
    },
    {
     "data": {
      "text/plain": [
       "[{'Number': 'М-8626/2022',\n",
       "  'Url': '/rs/preobrazhenskij/services/cases/claim-civil/details/f04d7180-60f3-11ed-a982-df53ba2e8de7',\n",
       "  'State': 'Зарегистрировано ',\n",
       "  'StateDate': '10.11.2022',\n",
       "  'Judge': 'Казанцев О.А.',\n",
       "  'Codex': '',\n",
       "  'Category': '205 - Иски о взыскании сумм по договору займа, кредитному договору',\n",
       "  'participants': [{'type': 'Истец',\n",
       "    'name': 'ООО \"Управляющая компания \"Мир Финансов\"'},\n",
       "   {'type': 'Ответчик',\n",
       "    'name': 'Бердиева Янина Вячеславовна, Чуева Елена Валентиновна'}]},\n",
       " {'Number': 'М-8298/2022',\n",
       "  'Url': '/rs/preobrazhenskij/services/cases/claim-civil/details/27d84d40-569b-11ed-b594-b97818e0b4e3',\n",
       "  'State': 'Возвращено ',\n",
       "  'StateDate': '31.10.2022',\n",
       "  'Judge': 'Сакович Т.Н.',\n",
       "  'Codex': '',\n",
       "  'Category': '205 - Иски о взыскании сумм по договору займа, кредитному договору',\n",
       "  'participants': [{'type': 'Истец', 'name': 'ООО \"УК \"Мир финансов\"'},\n",
       "   {'type': 'Ответчик', 'name': 'Бердиева Я.В., Чуева Е.В.'}]}]"
      ]
     },
     "execution_count": 279,
     "metadata": {},
     "output_type": "execute_result"
    }
   ],
   "source": [
    "print(\"Бердиева Янина Вячеславовна\")\n",
    "court_cases(\"Бердиева Янина Вячеславовна\")"
   ]
  },
  {
   "cell_type": "code",
   "execution_count": 255,
   "id": "25f4e0ff",
   "metadata": {},
   "outputs": [
    {
     "data": {
      "text/plain": [
       "{'mosgorsud_done': 1,\n",
       " 'total_count': '2',\n",
       " 'records_per_page': 15,\n",
       " 'cases': [{'Number': 'М-7731/2022',\n",
       "   'Url': '/rs/basmannyj/services/cases/claim-civil/details/fba9b640-5b78-11ed-916b-d7f992b99ee2',\n",
       "   'State': 'Зарегистрировано ',\n",
       "   'StateDate': '03.11.2022',\n",
       "   'Judge': 'Графова Г.А.',\n",
       "   'Codex': '',\n",
       "   'Category': '205 - Иски о взыскании сумм по договору займа, кредитному договору',\n",
       "   'participants': [{'type': 'Истец',\n",
       "     'name': 'ООО \"Управляющая компания \"Мир Финансов\", Д.У. ЗПИФ комбинированным \"Гималаи\"'},\n",
       "    {'type': 'Ответчик', 'name': 'Ходжаян А.Н.'}]},\n",
       "  {'Number': 'М-7700/2022',\n",
       "   'Url': '/rs/basmannyj/services/cases/claim-civil/details/4c130f40-5aa3-11ed-9028-d90b32016100',\n",
       "   'State': 'Возвращено ',\n",
       "   'StateDate': '03.11.2022',\n",
       "   'Judge': 'Графова Г.А.',\n",
       "   'Codex': '',\n",
       "   'Category': '205 - Иски о взыскании сумм по договору займа, кредитному договору',\n",
       "   'participants': [{'type': 'Истец',\n",
       "     'name': 'ООО \"Управляющая компания \"Мир Финансов\", Д.У. ЗПИФ комбинированным \"Гималаи\"'},\n",
       "    {'type': 'Ответчик', 'name': 'Ходжаян А.Н.'}]}]}"
      ]
     },
     "execution_count": 255,
     "metadata": {},
     "output_type": "execute_result"
    }
   ],
   "source": [
    "url = f\"https://service.api-assist.com/parser/mosgorsud_api/?key=dd48a3880956f92e995edeb40e131d13&participant=Ходжаян А.Н.\"\n",
    "response = requests.request(\"GET\", url)\n",
    "response.json()"
   ]
  },
  {
   "cell_type": "code",
   "execution_count": 249,
   "id": "b879593f",
   "metadata": {},
   "outputs": [
    {
     "name": "stdout",
     "output_type": "stream",
     "text": [
      "Матвеев Р.Ю.\n"
     ]
    },
    {
     "data": {
      "text/plain": [
       "[{'Number': 'М-8392/2022',\n",
       "  'Url': '/rs/preobrazhenskij/services/cases/claim-civil/details/cf528f00-590b-11ed-ba97-9bb341f77791',\n",
       "  'State': 'Зарегистрировано ',\n",
       "  'StateDate': '31.10.2022',\n",
       "  'Judge': 'Казанцев О.А.',\n",
       "  'Codex': '',\n",
       "  'Category': '205 - Иски о взыскании сумм по договору займа, кредитному договору',\n",
       "  'participants': [{'type': 'Истец', 'name': 'ООО \"УК \"МИР Финансов\"'},\n",
       "   {'type': 'Ответчик', 'name': 'Матвеев А.Р., Матвеев Р.Ю., Матвеева Л.Ю.'}]}]"
      ]
     },
     "execution_count": 249,
     "metadata": {},
     "output_type": "execute_result"
    }
   ],
   "source": [
    "print(\"Матвеев Р.Ю.\")\n",
    "court_cases(\"Матвеев Р.Ю.\")"
   ]
  },
  {
   "cell_type": "code",
   "execution_count": 281,
   "id": "2ddfdb24",
   "metadata": {},
   "outputs": [
    {
     "name": "stdout",
     "output_type": "stream",
     "text": [
      "Ермолова И.А.\n"
     ]
    },
    {
     "data": {
      "text/plain": [
       "[]"
      ]
     },
     "execution_count": 281,
     "metadata": {},
     "output_type": "execute_result"
    }
   ],
   "source": [
    "print(\"Ермолова И.А.\")\n",
    "court_cases(\"Ермолова И.А.\")"
   ]
  },
  {
   "cell_type": "code",
   "execution_count": 283,
   "id": "abe05025",
   "metadata": {},
   "outputs": [
    {
     "name": "stdout",
     "output_type": "stream",
     "text": [
      "Михайлов Л.А.\n"
     ]
    },
    {
     "data": {
      "text/plain": [
       "[]"
      ]
     },
     "execution_count": 283,
     "metadata": {},
     "output_type": "execute_result"
    }
   ],
   "source": [
    "print(\"Михайлов Л.А.\")\n",
    "court_cases(\"Михайлов Л.А.\")"
   ]
  },
  {
   "cell_type": "code",
   "execution_count": 31,
   "id": "ab6b8b73",
   "metadata": {},
   "outputs": [
    {
     "data": {
      "text/plain": [
       "{'mosgorsud_done': 1,\n",
       " 'total_count': '34',\n",
       " 'records_per_page': 15,\n",
       " 'cases': [{'Number': '02-0412/2019',\n",
       "   'Url': '/rs/taganskij/services/cases/civil/details/cc453949-e724-433e-9a1e-ac2203f8d9ea',\n",
       "   'DocumentName': 'Решение',\n",
       "   'Snippet': ' ...  дело № 2-412/2019 по исковому заявлению <span class=\"highlight\">Шиневой</span> Галины Сергеевны к Акционерному обществу ...  его отсутствие. Третьи лица <span class=\"highlight\">Шинева</span> Т.И., <span class=\"highlight\">Шинев</span> Р.В., <span class=\"highlight\">Шинев</span> С.В. в судебное заседание ...  не явились, извещены. От <span class=\"highlight\">Шинева</span> С.В. ...  РФ, суд РЕШИЛ: Исковые требования <span class=\"highlight\">Шиневой</span> Галины Сергеевны к Акционерному обществу ...  счете накопительной пенсии – удовлетворить. восстановить <span class=\"highlight\">Шиневой</span> Галине Сергеевне пропущенный срок на ... '},\n",
       "  {'Number': '33-30033/2018',\n",
       "   'Url': '/mgs/services/cases/appeal-civil/details/a33d8ee8-1fd8-46fc-8c54-d3392cccf2f4',\n",
       "   'DocumentName': 'Определение суда апелляционной инстанции',\n",
       "   'Snippet': ' ...  представителя Белых Н.А. по доверенности <span class=\"highlight\">Шинева</span> В.Г. на решение Щербинского районного ...  Н.А. и ее представитель адвокат <span class=\"highlight\">Шинев</span> В.Г. явились, заявленные исковые требования ...  представитель Белых Н.А. по доверенности <span class=\"highlight\">Шинев</span> В.Г. по доводам апелляционной жалобы. ...  дела, заслушав объяснения представителя истца – <span class=\"highlight\">Шинева</span> В.Г., обсудив доводы апелляционной жалобы ... '},\n",
       "  {'Number': '02-1582/2017',\n",
       "   'Url': '/rs/shcherbinskij/services/cases/civil/details/8f9a326f-b59d-496b-aabe-ee17457c8a66',\n",
       "   'DocumentName': 'Определение суда апелляционной инстанции',\n",
       "   'Snippet': ' ...  представителя Белых Н.А. по доверенности <span class=\"highlight\">Шинева</span> В.Г. на решение Щербинского районного ...  Н.А. и ее представитель адвокат <span class=\"highlight\">Шинев</span> В.Г. явились, заявленные исковые требования ...  представитель Белых Н.А. по доверенности <span class=\"highlight\">Шинев</span> В.Г. по доводам апелляционной жалобы. ...  дела, заслушав объяснения представителя истца – <span class=\"highlight\">Шинева</span> В.Г., обсудив доводы апелляционной жалобы ... '},\n",
       "  {'Number': '33-10870/2021',\n",
       "   'Url': '/mgs/services/cases/appeal-civil/details/680b7a00-81ad-11eb-b556-cfa2deb4f21e',\n",
       "   'DocumentName': 'Определение суда апелляционной инстанции',\n",
       "   'Snippet': ' ...  принимал, обеспечил явку своего представителя <span class=\"highlight\">Шинева</span> В.Г., который с заявленными исковыми ...  Р.В. по доверенности и ордеру <span class=\"highlight\">Шинев</span> В.Г. выражает несогласие с данным ...  Р.В. по доверенности и ордеру <span class=\"highlight\">Шинев</span> В.Г. явился, апелляционную жалобу поддержал. ... '},\n",
       "  {'Number': '02-0023/2022',\n",
       "   'Url': '/rs/tushinskij/services/cases/civil/details/6d0b7ae0-6093-11eb-8efc-9bb92fb31aaf',\n",
       "   'DocumentName': 'Мотивированное решение',\n",
       "   'Snippet': ' ...  третьего лица Милуш Э. адвокат <span class=\"highlight\">Шинев</span> В.Г., представитель ответчика Милуша Г.Ю. ...  по делу. Ссылка представителя ответчика <span class=\"highlight\">Шинева</span> В.Г. о том, что Милушем ... '},\n",
       "  {'Number': '02-6729/2022',\n",
       "   'Url': '/rs/presnenskij/services/cases/civil/details/f52f8fa1-e19e-11ec-8f49-8da2062224b5',\n",
       "   'DocumentName': 'Мотивированное решение',\n",
       "   'Snippet': ' ...  Ю.И., при секретаре судебного заседания <span class=\"highlight\">Шинёвой</span> М.В., рассмотрев в открытом судебном ...  Ю.И., при секретаре судебного заседания <span class=\"highlight\">Шинёвой</span> М.В., рассмотрев в открытом судебном ... '},\n",
       "  {'Number': '02-7509/2022',\n",
       "   'Url': '/rs/presnenskij/services/cases/civil/details/094080f1-f3c2-11ec-8be9-993b77115727',\n",
       "   'DocumentName': 'Мотивированное решение',\n",
       "   'Snippet': ' ...  Ю.И., при секретаре судебного заседания <span class=\"highlight\">Шиневой</span> М.В., рассмотрев в открытом судебном ...  Ю.И., при секретаре судебного заседания <span class=\"highlight\">Шиневой</span> М.В., рассмотрев в открытом судебном ... '},\n",
       "  {'Number': '33-29918/2016',\n",
       "   'Url': '/mgs/services/cases/appeal-civil/details/39c85234-9be9-4f10-bc17-89986d362000',\n",
       "   'DocumentName': 'Определение суда апелляционной инстанции',\n",
       "   'Snippet': ' ...  представителя. Представитель истца по доверенности <span class=\"highlight\">Шинев</span> В.Г. в судебное заседание явился ...  истца Пронина А.В. - адвоката <span class=\"highlight\">Шинева</span> В.Г., поддержавшего доводы апелляционной жалобы ... '},\n",
       "  {'Number': '02-6018/2022',\n",
       "   'Url': '/rs/presnenskij/services/cases/civil/details/bec92371-d28c-11ec-bb5d-cbba0b97ea06',\n",
       "   'DocumentName': 'Мотивированное решение',\n",
       "   'Snippet': ' ...  судебного заседания секретарем судебного заседания <span class=\"highlight\">Шиневой</span> М.В., с участием представителя ответчика ...  судебного заседания секретарем судебного заседания <span class=\"highlight\">Шиневой</span> М.В., с участием представителя ответчика ... '},\n",
       "  {'Number': '02-6127/2022',\n",
       "   'Url': '/rs/presnenskij/services/cases/civil/details/da41d4b0-d80b-11ec-9806-9992a49aff81',\n",
       "   'DocumentName': 'Мотивированное решение',\n",
       "   'Snippet': ' ...  Ю.И., при секретаре судебного заседания <span class=\"highlight\">Шиневой</span> М.В., с участием представителя истца ...  Ю.И., при секретаре судебного заседания <span class=\"highlight\">Шиневой</span> М.В., с участием представителя истца ... '},\n",
       "  {'Number': '02-5135/2022',\n",
       "   'Url': '/rs/presnenskij/services/cases/civil/details/dd9ff641-ba2f-11ec-ae0e-6f333493775f',\n",
       "   'DocumentName': 'Мотивированное решение',\n",
       "   'Snippet': ' ...  Ю.И., при секретаре судебного заседания <span class=\"highlight\">Шиневой</span> М.В., с участием представителя истца ...  Ю.И., при секретаре судебного заседания <span class=\"highlight\">Шиневой</span> М.В., с участием представителя истца ... '},\n",
       "  {'Number': '33-40159/2017',\n",
       "   'Url': '/mgs/services/cases/appeal-civil/details/d9f3991e-9a3b-461e-8197-080bdb2f1f8f',\n",
       "   'DocumentName': 'Определение суда апелляционной инстанции',\n",
       "   'Snippet': ' ...  Пронин А.В. и его представитель <span class=\"highlight\">Шинев</span> В.Г. в судебное заседание явились ...  Пронина А.В. по ордеру адвоката <span class=\"highlight\">Шинева</span> В.Г, поддержавшего доводы жалобы, обсудив ... '},\n",
       "  {'Number': '02-6081/2022',\n",
       "   'Url': '/rs/presnenskij/services/cases/civil/details/cbd43800-d685-11ec-9f7e-bd2b6992b0fd',\n",
       "   'DocumentName': 'Мотивированное решение',\n",
       "   'Snippet': ' ...  Ю.И., при секретаре судебного заседания <span class=\"highlight\">Шиневой</span> М.В., с участием истцов Тарасенко ...  Ю.И., при секретаре судебного заседания <span class=\"highlight\">Шиневой</span> М.В., с участием истцов Тарасенко ... '},\n",
       "  {'Number': '02-1480/2017',\n",
       "   'Url': '/rs/ostankinskij/services/cases/civil/details/ada6226c-2488-49aa-9598-8b27b61db7ed',\n",
       "   'DocumentName': 'Определение суда апелляционной инстанции',\n",
       "   'Snippet': ' ...  Пронин А.В. и его представитель <span class=\"highlight\">Шинев</span> В.Г. в судебное заседание явились ...  Пронина А.В. по ордеру адвоката <span class=\"highlight\">Шинева</span> В.Г, поддержавшего доводы жалобы, обсудив ... '},\n",
       "  {'Number': '02-0219/2022',\n",
       "   'Url': '/rs/kuzminskij/services/cases/civil/details/a4a68961-bd6b-11eb-88f2-23f9a856f5ca',\n",
       "   'DocumentName': 'Определение о прекращении производства по делу',\n",
       "   'Snippet': ' ...  истца Амелиной А.О. по доверенности <span class=\"highlight\">Шинёва</span> В.Г. о прекращении производства в ...  истца Амелиной А.О. по доверенности <span class=\"highlight\">Шинёва</span> В.Г. о прекращении производства в ... '},\n",
       "  {'Number': '33-4064/2015',\n",
       "   'Url': '/mgs/services/cases/appeal-civil/details/82ebdfed-e2e4-4ae3-9b40-e2f586987015',\n",
       "   'DocumentName': 'Определение суда апелляционной инстанции',\n",
       "   'Snippet': ' ...  и её представителя - адвоката <span class=\"highlight\">Шинёва</span> В.Г., возражения истца Крючковой В.В. ... '},\n",
       "  {'Number': '33-29903/2014',\n",
       "   'Url': '/mgs/services/cases/appeal-civil/details/1ed85f23-3965-45f5-bd44-7dd822546e26',\n",
       "   'DocumentName': 'Определение суда апелляционной инстанции',\n",
       "   'Snippet': ' ...  и ее представитель по доверенности <span class=\"highlight\">Шинев</span> В.Г. в судебное заседание явились ... '},\n",
       "  {'Number': 'М-8398/2022',\n",
       "   'Url': '/rs/preobrazhenskij/services/cases/claim-civil/details/825cafc0-590e-11ed-ba97-9bb341f77791',\n",
       "   'DocumentName': '',\n",
       "   'Snippet': None},\n",
       "  {'Number': '02-8341/2019',\n",
       "   'Url': '/rs/meshchanskij/services/cases/civil/details/214e527d-7120-4312-b3d2-461c02681af1',\n",
       "   'DocumentName': '',\n",
       "   'Snippet': None},\n",
       "  {'Number': '02-5410/2022',\n",
       "   'Url': '/rs/presnenskij/services/cases/civil/details/4edee8d0-c079-11ec-b717-65b2b01b165f',\n",
       "   'DocumentName': 'Мотивированное решение',\n",
       "   'Snippet': ' ...  Ю.И., при секретаре судебного заседания <span class=\"highlight\">Шиневой</span> М.В., с участием представителя истца ...  Ю.И., при секретаре судебного заседания <span class=\"highlight\">Шиневой</span> М.В., с участием представителя истца ... '},\n",
       "  {'Number': '02-3679/2022',\n",
       "   'Url': '/rs/presnenskij/services/cases/civil/details/357e70f1-9b84-11ec-bae3-13bbf00ddb23',\n",
       "   'DocumentName': 'Мотивированное решение',\n",
       "   'Snippet': ' ...  Ю.И., при секретаре судебного заседания <span class=\"highlight\">Шиневой</span> М.В., с участием представителя истца ...  Ю.И., при секретаре судебного заседания <span class=\"highlight\">Шиневой</span> М.В., с участием представителя истца ... '},\n",
       "  {'Number': '02-4584/2022',\n",
       "   'Url': '/rs/presnenskij/services/cases/civil/details/769bec21-af2a-11ec-813f-ff06a9ae0b53',\n",
       "   'DocumentName': 'Мотивированное решение',\n",
       "   'Snippet': ' ...  Ю.И., при секретаре судебного заседания <span class=\"highlight\">Шиневой</span> М.В., с участием представителя истца ...  Ю.И., при секретаре судебного заседания <span class=\"highlight\">Шиневой</span> М.В., с участием представителя истца ... '},\n",
       "  {'Number': '02-5971/2022',\n",
       "   'Url': '/rs/presnenskij/services/cases/civil/details/6ecc0770-d1ba-11ec-adb1-539a2d54ab66',\n",
       "   'DocumentName': 'Мотивированное решение',\n",
       "   'Snippet': ' ...  Ю.И., при секретаре судебного заседания <span class=\"highlight\">Шинёвой</span> М.В., с участием представителей сторон ...  Ю.И., при секретаре судебного заседания <span class=\"highlight\">Шинёвой</span> М.В., с участием представителей сторон ... '},\n",
       "  {'Number': '11-28922/2013',\n",
       "   'Url': '/mgs/services/cases/appeal-civil/details/a384f8f4-14f8-4df8-8e0b-49df5ab4158c',\n",
       "   'DocumentName': 'Определение суда апелляционной инстанции',\n",
       "   'Snippet': ' ...  ответчиков Поронькина И.С., Поронькиной Н.А.- <span class=\"highlight\">Шинев</span> В.Г. Проверив материалы дела, выслушав ...  объяснения представителя ответчиков <span class=\"highlight\">Шинева</span> В.Г., представителя Новиковой И.С. - ... '},\n",
       "  {'Number': '02-4441/2022',\n",
       "   'Url': '/rs/presnenskij/services/cases/civil/details/6a2471c0-ab41-11ec-a0ab-9dcaefafe9fc',\n",
       "   'DocumentName': 'Мотивированное решение',\n",
       "   'Snippet': ' ...  Ю.И., при секретаре судебного заседания <span class=\"highlight\">Шиневой</span> М.В., с участием представителя истца ...  Ю.И., при секретаре судебного заседания <span class=\"highlight\">Шиневой</span> М.В., с участием представителя истца ... '},\n",
       "  {'Number': '02-5595/2022',\n",
       "   'Url': '/rs/presnenskij/services/cases/civil/details/b0f7d0b1-c527-11ec-9d70-3b041657ee77',\n",
       "   'DocumentName': 'Мотивированное решение',\n",
       "   'Snippet': ' ...  Ю.И., при секретаре судебного заседания <span class=\"highlight\">Шиневой</span> М.В., рассмотрев в открытом судебном ...  Ю.И., при секретаре судебного заседания <span class=\"highlight\">Шиневой</span> М.В., рассмотрев в открытом судебном ... '},\n",
       "  {'Number': '02-7693/2022',\n",
       "   'Url': '/rs/presnenskij/services/cases/civil/details/4e250eb1-f62f-11ec-b3d1-e5ccc01d4340',\n",
       "   'DocumentName': 'Мотивированное решение',\n",
       "   'Snippet': ' ...  Ю.И., при секретаре судебного заседания <span class=\"highlight\">Шиневой</span> М.В., рассмотрев в открытом судебном ...  Ю.И., при секретаре судебного заседания <span class=\"highlight\">Шиневой</span> М.В., рассмотрев в открытом судебном ... '},\n",
       "  {'Number': '02-0512/2018',\n",
       "   'Url': '/rs/zyuzinskij/services/cases/civil/details/90c30c54-999d-42cc-8c04-3c64c19ee046',\n",
       "   'DocumentName': 'Мотивированное решение',\n",
       "   'Snippet': ' ...  истца по доверенности и ордеру <span class=\"highlight\">Шинёва</span> В.Г., представителя ответчика по доверенности ...  и ее представитель по доверенности <span class=\"highlight\">Шинёв</span> В.Г. в судебное заседание явились ... '},\n",
       "  {'Number': '02-7460/2022',\n",
       "   'Url': '/rs/presnenskij/services/cases/civil/details/f04e5871-f3b1-11ec-8be9-993b77115727',\n",
       "   'DocumentName': 'Мотивированное решение',\n",
       "   'Snippet': ' ...  Ю.И., при секретаре судебного заседания <span class=\"highlight\">Шиневой</span> М.В., рассмотрев в открытом судебном ...  Ю.И., при секретаре судебного заседания <span class=\"highlight\">Шиневой</span> М.В., рассмотрев в открытом судебном ... '},\n",
       "  {'Number': '02-6720/2022',\n",
       "   'Url': '/rs/presnenskij/services/cases/civil/details/6a6aa8a1-e19e-11ec-8f49-8da2062224b5',\n",
       "   'DocumentName': 'Определение о прекращении производства по делу',\n",
       "   'Snippet': ' ...  Ю.И., при секретаре судебного заседания <span class=\"highlight\">Шиневой</span> М.В., с участием представителя истца ... '},\n",
       "  {'Number': '33-6585/2020',\n",
       "   'Url': '/mgs/services/cases/appeal-civil/details/06ebeafa-4fc6-4db8-81a0-615ac063de5c',\n",
       "   'DocumentName': 'Определение суда апелляционной инстанции',\n",
       "   'Snippet': ' ...  Зимин Р.В. и его представитель <span class=\"highlight\">Шинёв</span> В.Г. согласились с постановленным определением. ... '},\n",
       "  {'Number': '02-6962/2022',\n",
       "   'Url': '/rs/presnenskij/services/cases/civil/details/3bcaeb41-e7d4-11ec-98e2-d597afc03d3e',\n",
       "   'DocumentName': 'Определение об оставлении заявления без рассмотрения',\n",
       "   'Snippet': ' ...  Ю.И., при секретаре судебного заседания <span class=\"highlight\">Шиневой</span> М.В., рассмотрев в открытом судебном ... '},\n",
       "  {'Number': '02-0514/2020',\n",
       "   'Url': '/rs/shcherbinskij/services/cases/civil/details/600a96e6-035c-4aba-baba-358597d35a9a',\n",
       "   'DocumentName': 'Мотивированное решение',\n",
       "   'Snippet': ' ... , третьего лица Подшиваловой Т. В. – <span class=\"highlight\">Шинев</span> В. Г. в судебное заседание ... '},\n",
       "  {'Number': '02-2059/2016',\n",
       "   'Url': '/rs/ostankinskij/services/cases/civil/details/d3a94c2d-f393-442b-a263-4b18180c6c6b',\n",
       "   'DocumentName': 'Решение',\n",
       "   'Snippet': ' ...  представителя. Представитель истца по доверенности <span class=\"highlight\">Шинев</span> *. в судебное заседание явился ... '}]}"
      ]
     },
     "execution_count": 31,
     "metadata": {},
     "output_type": "execute_result"
    }
   ],
   "source": [
    "url = \"https://service.api-assist.com/parser/mosgorsud_api/?key=dd48a3880956f92e995edeb40e131d13&text=Шинев\"\n",
    "response = requests.request(\"GET\", url)\n",
    "b = response.json()\n",
    "b"
   ]
  },
  {
   "cell_type": "code",
   "execution_count": null,
   "id": "21b38cc6",
   "metadata": {},
   "outputs": [],
   "source": []
  }
 ],
 "metadata": {
  "kernelspec": {
   "display_name": "Python 3",
   "language": "python",
   "name": "python3"
  },
  "language_info": {
   "codemirror_mode": {
    "name": "ipython",
    "version": 3
   },
   "file_extension": ".py",
   "mimetype": "text/x-python",
   "name": "python",
   "nbconvert_exporter": "python",
   "pygments_lexer": "ipython3",
   "version": "3.8.8"
  }
 },
 "nbformat": 4,
 "nbformat_minor": 5
}
